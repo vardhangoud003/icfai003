{
  "nbformat": 4,
  "nbformat_minor": 0,
  "metadata": {
    "colab": {
      "provenance": [],
      "mount_file_id": "1ooSshs7zxI_FK8qchz1LMBRcalNaO1Ba",
      "authorship_tag": "ABX9TyMaM8PfXVSClFeu2WBEHJWm",
      "include_colab_link": true
    },
    "kernelspec": {
      "name": "python3",
      "display_name": "Python 3"
    },
    "language_info": {
      "name": "python"
    }
  },
  "cells": [
    {
      "cell_type": "markdown",
      "metadata": {
        "id": "view-in-github",
        "colab_type": "text"
      },
      "source": [
        "<a href=\"https://colab.research.google.com/github/vardhangoud003/icfai003/blob/main/Untitled1.ipynb\" target=\"_parent\"><img src=\"https://colab.research.google.com/assets/colab-badge.svg\" alt=\"Open In Colab\"/></a>"
      ]
    },
    {
      "cell_type": "code",
      "source": [
        "import io\n",
        "import pandas as pd\n",
        "pd.read_csv(io.StringIO('''\n",
        "What is the average total cost of trips for each destination?,,,,,,,,,,\n",
        "'''), header=None)\n"
      ],
      "metadata": {
        "id": "pCT1NxIcJ4fq"
      },
      "execution_count": null,
      "outputs": []
    },
    {
      "cell_type": "markdown",
      "source": [
        "[link text](https://)"
      ],
      "metadata": {
        "id": "hwZUhObdG2Gf"
      }
    },
    {
      "cell_type": "code",
      "source": [],
      "metadata": {
        "id": "iCnIg9uLJ4SL"
      },
      "execution_count": null,
      "outputs": []
    },
    {
      "cell_type": "code",
      "source": [],
      "metadata": {
        "id": "rvtTL75hJ4Ba"
      },
      "execution_count": null,
      "outputs": []
    },
    {
      "cell_type": "markdown",
      "source": [],
      "metadata": {
        "id": "kSuxlKDGJJYz"
      }
    },
    {
      "cell_type": "code",
      "source": [
        "For holidays: The most common travel periods are around major public holidays such as:\n",
        "\n",
        "Christmas and New Year (late December to early January)\n",
        "Thanksgiving (late November in the U.S.)\n",
        "Easter (March or April, depending on the year)\n",
        "Summer vacation (late June to late August)\n",
        "For tourism: The most common travel periods are often during peak tourist seasons for specific regions. For example:\n",
        "\n",
        "Winter in tropical destinations (e.g., the Caribbean, Southeast Asia).\n",
        "Summer in Europe or North America, when people tend to travel for longer holidays.\n",
        "For business travel: Peak periods often align with conferences or fiscal year-end (e.g., around March, June, September, and December).\n",
        "\n",
        "Do you have a specific type of travel or destination in mind that you're referring to?\n",
        "\n",
        "\n",
        "\n"
      ],
      "metadata": {
        "colab": {
          "base_uri": "https://localhost:8080/",
          "height": 106
        },
        "id": "wsQ0BuevJJ8r",
        "outputId": "e2e0871b-732d-493b-8e25-49e2933031e9"
      },
      "execution_count": 13,
      "outputs": [
        {
          "output_type": "error",
          "ename": "SyntaxError",
          "evalue": "invalid syntax (<ipython-input-13-5f92d7ebd96c>, line 1)",
          "traceback": [
            "\u001b[0;36m  File \u001b[0;32m\"<ipython-input-13-5f92d7ebd96c>\"\u001b[0;36m, line \u001b[0;32m1\u001b[0m\n\u001b[0;31m    For holidays: The most common travel periods are around major public holidays such as:\u001b[0m\n\u001b[0m        ^\u001b[0m\n\u001b[0;31mSyntaxError\u001b[0m\u001b[0;31m:\u001b[0m invalid syntax\n"
          ]
        }
      ]
    }
  ]
}